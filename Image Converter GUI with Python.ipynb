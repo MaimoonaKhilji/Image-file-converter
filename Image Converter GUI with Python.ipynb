{
 "cells": [
  {
   "cell_type": "code",
   "execution_count": 33,
   "metadata": {},
   "outputs": [],
   "source": [
    "import tkinter as tk\n",
    "from tkinter import filedialog\n",
    "from PIL import Image\n",
    "\n",
    "root = tk.Tk()\n",
    "canvas1 = tk.Canvas(root, width=600, height=550, bg='white', relief='raised')\n",
    "canvas1.pack()\n",
    "img =tk.PhotoImage(file=\"image.gif\")      \n",
    "canvas1.create_image(400,260, image=img) \n",
    "\n",
    "label1 = tk.Label(root, text=\"Image Converter\", bg='white',fg=\"Black\")\n",
    "label1.config(font=('helvetica', 35))\n",
    "canvas1.create_window(280, 60, window=label1)\n",
    "\n",
    "def getPNG():\n",
    "    global im1\n",
    "    import_file_path = filedialog.askopenfilename()\n",
    "    im1 = Image.open(import_file_path)\n",
    "\n",
    "browse_png = tk.Button(text=\"    Select image   \", command=getPNG, bg=\"medium sea green\", fg='white', font=('helvetica', 12, 'bold'))\n",
    "canvas1.create_window(130, 180, window=browse_png)\n",
    "\n",
    "def convertjpg():\n",
    "    global im1\n",
    "    export_file_path = filedialog.asksaveasfilename(defaultextension='.jpg')\n",
    "    im1.save(export_file_path)\n",
    "\n",
    "saveasbutton = tk.Button(text=\"Convert to JPG   \", command=convertjpg, bg='medium sea green', fg='white', font=('helvetica', 12, 'bold'))\n",
    "canvas1.create_window(130, 230, window=saveasbutton)\n",
    "\n",
    "def convertgif():\n",
    "    global im1\n",
    "    export_file_path = filedialog.asksaveasfilename(defaultextension='.gif')\n",
    "    im1.save(export_file_path)\n",
    "    \n",
    "    \n",
    "saveasbutton = tk.Button(text=\"Convert to GIF    \", command=convertgif, bg='medium sea green', fg='white', font=('helvetica', 12, 'bold'))\n",
    "canvas1.create_window(130, 280, window=saveasbutton)\n",
    "\n",
    "def convertpng():\n",
    "    global im1\n",
    "    export_file_path = filedialog.asksaveasfilename(defaultextension='.png')\n",
    "    im1.save(export_file_path)\n",
    "    \n",
    "    \n",
    "saveasbutton = tk.Button(text=\"Convert to PNG  \", command=convertpng, bg='medium sea green', fg='white', font=('helvetica', 12, 'bold'))\n",
    "canvas1.create_window(130, 330, window=saveasbutton)\n",
    "\n",
    "root.mainloop()"
   ]
  },
  {
   "cell_type": "code",
   "execution_count": null,
   "metadata": {},
   "outputs": [],
   "source": []
  }
 ],
 "metadata": {
  "kernelspec": {
   "display_name": "Python 3",
   "language": "python",
   "name": "python3"
  },
  "language_info": {
   "codemirror_mode": {
    "name": "ipython",
    "version": 3
   },
   "file_extension": ".py",
   "mimetype": "text/x-python",
   "name": "python",
   "nbconvert_exporter": "python",
   "pygments_lexer": "ipython3",
   "version": "3.7.3"
  }
 },
 "nbformat": 4,
 "nbformat_minor": 2
}
